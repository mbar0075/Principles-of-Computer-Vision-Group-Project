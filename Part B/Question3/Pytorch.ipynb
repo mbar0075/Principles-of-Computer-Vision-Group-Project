{
 "cells": [
  {
   "cell_type": "markdown",
   "id": "c57b2257",
   "metadata": {},
   "source": [
    "# PyTorch Data Augmentation "
   ]
  },
  {
   "cell_type": "markdown",
   "id": "8c22211a",
   "metadata": {},
   "source": [
    "# <u>Authors:</u>\n",
    "## 1. Matthias Bartolo ID: 0436103L\n",
    "## 2. Luke Cardona ID: 0011803H\n",
    "## 3. Jerome Agius ID: 0353803L\n",
    "## 4. Isaac Muscat ID: 0265203L"
   ]
  },
  {
   "cell_type": "markdown",
   "id": "14abe012",
   "metadata": {},
   "source": [
    "## <u>Installed Packages</u>"
   ]
  },
  {
   "cell_type": "code",
   "execution_count": 1,
   "id": "a8a63cc6",
   "metadata": {},
   "outputs": [],
   "source": [
    "#!pip install torchvision "
   ]
  },
  {
   "cell_type": "markdown",
   "id": "edd4a732",
   "metadata": {},
   "source": [
    "## <u>Packages</u>"
   ]
  },
  {
   "cell_type": "code",
   "execution_count": 2,
   "id": "af705a2d",
   "metadata": {},
   "outputs": [],
   "source": [
    "from torch.utils.data import DataLoader, Dataset\n",
    "import torchvision.transforms as T\n",
    "import torch\n",
    "import torch.nn as nn\n",
    "from torchvision.utils import make_grid\n",
    "from torchvision.utils import save_image\n",
    "from IPython.display import Image\n",
    "import matplotlib.pyplot as plt\n",
    "import numpy as np\n",
    "import random\n",
    "%matplotlib inline\n",
    "from PIL import Image\n",
    "import os "
   ]
  },
  {
   "cell_type": "markdown",
   "id": "97c7683a",
   "metadata": {},
   "source": [
    "## <u>Loading required images</u>"
   ]
  },
  {
   "cell_type": "code",
   "execution_count": 3,
   "id": "f6040a24",
   "metadata": {},
   "outputs": [],
   "source": [
    "#Specifying the image directory\n",
    "directory = \"./images/original_images/\"\n",
    "\n",
    "#Function to load the .jpeg images in the specified directory\n",
    "def loadImages(directory):\n",
    "    #List to store the original images\n",
    "    original_imgs = []\n",
    "    \n",
    "    #Retrieving the list of all file names\n",
    "    files = os.listdir(directory);\n",
    "    for file in files: \n",
    "        if(file[len(file)-4:len(file)] == \"jpeg\"):\n",
    "            \n",
    "            #Adding the image to the list of original images\n",
    "            original_imgs.append(Image.open(directory+file))\n",
    "    \n",
    "    #Returning the list of original images\n",
    "    return original_imgs\n",
    "\n",
    "#Retrieving the list of original images from the specified directory\n",
    "original_imgs = loadImages(directory)"
   ]
  },
  {
   "cell_type": "markdown",
   "id": "ed0d8eea",
   "metadata": {},
   "source": [
    "## <u>Data Augmentation Functions</u> "
   ]
  },
  {
   "cell_type": "markdown",
   "id": "5e438ce7",
   "metadata": {},
   "source": [
    "**RandomRotation** - This function rotates the passed image randomly within a set range. "
   ]
  },
  {
   "cell_type": "code",
   "execution_count": 4,
   "id": "c6b349cd",
   "metadata": {},
   "outputs": [],
   "source": [
    "def RandomRotation(img, RotationValue):\n",
    "    rotation_img = T.functional.rotate(img, RotationValue) \n",
    "    return rotation_img, \"Rotation Image\""
   ]
  },
  {
   "cell_type": "markdown",
   "id": "7b223ec0",
   "metadata": {},
   "source": [
    "**Brightness** - This function adjusts the brightness of the passed image within a set range."
   ]
  },
  {
   "cell_type": "code",
   "execution_count": 5,
   "id": "ebe7b5ac",
   "metadata": {},
   "outputs": [],
   "source": [
    "def Brightness(img, BrightnessValue):\n",
    "    brightness_img = T.functional.adjust_brightness(img, BrightnessValue)\n",
    "    return brightness_img, \"Brightness Image\""
   ]
  },
  {
   "cell_type": "markdown",
   "id": "7b93a2a4",
   "metadata": {},
   "source": [
    "**Contrast** - This function adjusts the contrast of the passed image in between a certain range."
   ]
  },
  {
   "cell_type": "code",
   "execution_count": 6,
   "id": "18139075",
   "metadata": {},
   "outputs": [],
   "source": [
    "def Contrast(img, ContrastValue):\n",
    "    contrast_img = T.functional.adjust_contrast(img, ContrastValue)\n",
    "    return contrast_img, \"Contrast Image\""
   ]
  },
  {
   "cell_type": "markdown",
   "id": "3e58a550",
   "metadata": {},
   "source": [
    "**Saturation** - This function adjusts the saturation of the passed image between a certain range."
   ]
  },
  {
   "cell_type": "code",
   "execution_count": 7,
   "id": "b21cb4e0",
   "metadata": {},
   "outputs": [],
   "source": [
    "def Saturation(img, SaturationValue):\n",
    "    saturation_img = T.functional.adjust_saturation(img, SaturationValue)\n",
    "    return saturation_img, \"Saturation Image\""
   ]
  },
  {
   "cell_type": "markdown",
   "id": "5217b960",
   "metadata": {},
   "source": [
    "**Hue** - This function adjusts the hue of the passed image between a certain range."
   ]
  },
  {
   "cell_type": "code",
   "execution_count": 8,
   "id": "e50b89a9",
   "metadata": {},
   "outputs": [],
   "source": [
    "def Hue(img, HueValue):\n",
    "    hue_img = T.functional.adjust_hue(img, HueValue)\n",
    "    return hue_img, \"Hue Image\""
   ]
  },
  {
   "cell_type": "markdown",
   "id": "45fb7967",
   "metadata": {},
   "source": [
    "**CenterCrop** - This function crops the center of the passed image and returns the cropped out section."
   ]
  },
  {
   "cell_type": "code",
   "execution_count": 9,
   "id": "8fb3088f",
   "metadata": {},
   "outputs": [],
   "source": [
    "def CenterCrop(img):\n",
    "    centre_crop = T.CenterCrop([img.size[1]/2,img.size[0]/2])\n",
    "    centre_crop_img = centre_crop(img)\n",
    "    return centre_crop_img, \"Centre Crop Image\""
   ]
  },
  {
   "cell_type": "markdown",
   "id": "cbdc936b",
   "metadata": {},
   "source": [
    "**HorizontalFlip** - This function flips the passed image horizontally in relation to its center point."
   ]
  },
  {
   "cell_type": "code",
   "execution_count": 10,
   "id": "c56641fe",
   "metadata": {},
   "outputs": [],
   "source": [
    "def HorizontalFlip(img):\n",
    "    horizontal_flip_img = T.functional.hflip(img)\n",
    "    return horizontal_flip_img, \"Horizontal Flip Image\""
   ]
  },
  {
   "cell_type": "markdown",
   "id": "aaeac0cf",
   "metadata": {},
   "source": [
    "**VerticalFlip** - This function flips the passed image vertically in relation to its center point."
   ]
  },
  {
   "cell_type": "code",
   "execution_count": 11,
   "id": "13e9d6e1",
   "metadata": {},
   "outputs": [],
   "source": [
    "def VerticalFlip(img):\n",
    "    vertical_flip_img = T.functional.vflip(img)\n",
    "    return vertical_flip_img, \"Vertical Flip Image\""
   ]
  },
  {
   "cell_type": "markdown",
   "id": "ad2c57d2",
   "metadata": {},
   "source": [
    "**Shear** - This function shears the passed image wihtin a set range."
   ]
  },
  {
   "cell_type": "code",
   "execution_count": 12,
   "id": "8ea76e97",
   "metadata": {},
   "outputs": [],
   "source": [
    "def Shear(img, ShearValue):\n",
    "    shear_img = T.functional.affine(img, 0, [0,0], 1, [ShearValue,ShearValue])\n",
    "    return shear_img, \"Shear Image\""
   ]
  },
  {
   "cell_type": "markdown",
   "id": "7416d6f5",
   "metadata": {},
   "source": [
    "**Gamma** - This function alters the gamma values of the passed image within a set range."
   ]
  },
  {
   "cell_type": "code",
   "execution_count": 13,
   "id": "eb226381",
   "metadata": {},
   "outputs": [],
   "source": [
    "def Gamma(img, GammaValue):\n",
    "    gamma_img = T.functional.adjust_gamma(img, GammaValue, 1)\n",
    "    return gamma_img, \"Gamma Image\" "
   ]
  },
  {
   "cell_type": "markdown",
   "id": "f82af006",
   "metadata": {},
   "source": [
    "**GaussianBlur** - This function applies the GaussianBlur kernal onto the passed image"
   ]
  },
  {
   "cell_type": "code",
   "execution_count": 14,
   "id": "704bfebb",
   "metadata": {},
   "outputs": [],
   "source": [
    "def GaussianBlur(img, GBlurValue):\n",
    "    gaussian_blur_img = T.functional.gaussian_blur(img, GBlurValue)\n",
    "    return gaussian_blur_img, \"Gaussian Blur Image\""
   ]
  },
  {
   "cell_type": "markdown",
   "id": "a701cabb",
   "metadata": {},
   "source": [
    "**Translation** - This function translates the passed image along both axis within a set range. "
   ]
  },
  {
   "cell_type": "code",
   "execution_count": 15,
   "id": "671f7d0d",
   "metadata": {},
   "outputs": [],
   "source": [
    "def Translation(img, TranslationValue):\n",
    "    translation_img = T.functional.affine(img, 0, [TranslationValue,TranslationValue], 1, 0, 0, 0)\n",
    "    return translation_img, \"Translation Image\""
   ]
  },
  {
   "cell_type": "markdown",
   "id": "a9a39548",
   "metadata": {},
   "source": [
    "**AugmentImg** - This function is used to apply all the image augmentation functions discussed above on the passed image and return a list of augemented images. "
   ]
  },
  {
   "cell_type": "code",
   "execution_count": 16,
   "id": "93421aa1",
   "metadata": {},
   "outputs": [],
   "source": [
    "def AugmentImg(img):\n",
    "    RotationValue = 30\n",
    "    BrightnessValue = 0.6\n",
    "    ContrastValue = 1\n",
    "    SaturationValue = 1\n",
    "    ShearValue = 30\n",
    "    HueValue = -0.5\n",
    "    GammaValue = 1\n",
    "    GBlurValue = 31\n",
    "    \n",
    "    Augmented_Img = {\"Rotations\":[], \"Brightness\":[],\"Contrast\":[],\"Saturation\":[],\n",
    "                     \"Hue\":[],\"Flipped\":[],\"Shearing\":[],\n",
    "                    \"CenterCrop\":[],\"Gamma\":[],\"GaussianBlur\":[],\"Translation\": []}\n",
    "    \n",
    "    #Executing all augmentation function fives times per image and storing the results\n",
    "    for x in range(5):\n",
    "        TranslationValue = int((((x)-2.5)+1)*100)\n",
    "        \n",
    "        #Photometric Augmentation\n",
    "        Augmented_Img[\"Brightness\"].append(Brightness(img, BrightnessValue))\n",
    "        Augmented_Img[\"Contrast\"].append(Contrast(img, ContrastValue))\n",
    "        Augmented_Img[\"Saturation\"].append(Saturation(img, SaturationValue))\n",
    "        Augmented_Img[\"Hue\"].append(Hue(img, HueValue))        \n",
    "        Augmented_Img[\"Gamma\"].append(Gamma(img, GammaValue))\n",
    "        Augmented_Img[\"GaussianBlur\"].append(GaussianBlur(img, GBlurValue))\n",
    "\n",
    "        #Geometric Augmentation\n",
    "        Augmented_Img[\"Rotations\"].append(RandomRotation(img, RotationValue))\n",
    "        Augmented_Img[\"CenterCrop\"].append(CenterCrop(img))\n",
    "        Augmented_Img[\"Flipped\"].append(HorizontalFlip(img))\n",
    "        Augmented_Img[\"Flipped\"].append(VerticalFlip(img))\n",
    "        Augmented_Img[\"Shearing\"].append(Shear(img, ShearValue))\n",
    "        Augmented_Img[\"Translation\"].append(Translation(img, TranslationValue))\n",
    "        \n",
    "        #Updating the parameter values\n",
    "        RotationValue += 30\n",
    "        BrightnessValue += 0.6\n",
    "        ContrastValue += 1\n",
    "        SaturationValue += 1\n",
    "        HueValue += 0.2\n",
    "        ShearValue += 30\n",
    "        GammaValue += 1\n",
    "        GBlurValue += 30\n",
    "        \n",
    "        \n",
    "    return Augmented_Img"
   ]
  },
  {
   "cell_type": "code",
   "execution_count": 17,
   "id": "9d783cbd",
   "metadata": {},
   "outputs": [],
   "source": [
    "AugmentedImgs = []\n",
    "\n",
    "for img in original_imgs: \n",
    "    AugmentedImgs.append(AugmentImg(img))"
   ]
  },
  {
   "cell_type": "markdown",
   "id": "2f723133",
   "metadata": {},
   "source": [
    "# <u>Output Display</u>"
   ]
  },
  {
   "cell_type": "markdown",
   "id": "12591b7d",
   "metadata": {},
   "source": [
    "This method displays all the altered images in an ordarly manner for presentation purposes."
   ]
  },
  {
   "cell_type": "code",
   "execution_count": 18,
   "id": "3ec758cf",
   "metadata": {
    "scrolled": false
   },
   "outputs": [],
   "source": [
    "rows, cols = 11,5\n",
    "\n",
    "#Looping through all the augmented images\n",
    "for imgSet in AugmentedImgs:\n",
    "    fig, ax = plt.subplots(11, 5, figsize=(10,20))\n",
    "    row = 0\n",
    "    for key in imgSet:\n",
    "        for cnt in range(5):\n",
    "            col = cnt % 5\n",
    "            \n",
    "            #Setting the image\n",
    "            ax[row][col].imshow(imgSet[key][cnt][0])\n",
    "            \n",
    "            #Setting the title\n",
    "            ax[row][col].set_title(imgSet[key][cnt][1]+\" \"+str(cnt+1)) \n",
    "            \n",
    "            #Removing the axes\n",
    "            ax[row][col].axis('off') \n",
    "            fig.tight_layout()\n",
    "        row += 1 "
   ]
  },
  {
   "cell_type": "markdown",
   "id": "487e1e00",
   "metadata": {},
   "source": [
    "**SaveImages** - This function saves the passed list of images to the specified directory"
   ]
  },
  {
   "cell_type": "code",
   "execution_count": 19,
   "id": "b6c1feab",
   "metadata": {},
   "outputs": [],
   "source": [
    "def SaveImages(listOfImages, directory):\n",
    "    if not os.path.exists(directory):\n",
    "       # Create a new directory if it does not exist\n",
    "       os.makedirs(directory)\n",
    "    \n",
    "    count = 1\n",
    "    for imgSet in listOfImages:\n",
    "        \n",
    "        for key in imgSet:\n",
    "            if(key == \"Brightness\" or key == \"Contrast\" or key == \"Saturation\" or key == \"Hue\" or key == \"Gamma\" or key == \"GaussianBlur\"):                \n",
    "                subDir = \"PhotometricAugmentation\"\n",
    "            else:\n",
    "                subDir = \"GeometricAugmentation\"\n",
    "            \n",
    "            if not os.path.exists(directory+\"/\"+subDir+\"/\"+key+\"/\"):\n",
    "               # Create a new directory if it does not exist\n",
    "               os.makedirs(directory+\"/\"+subDir+\"/\"+key+\"/\")\n",
    "\n",
    "            for x in range(5):\n",
    "                #Saving the images\n",
    "                imgSet[key][x][0].save(directory+\"/\"+subDir+\"/\"+key+\"/Item_\"+str(count)+\"_\"+imgSet[key][x][1]+\"_\"+str(x+1)+\".jpeg\", 'JPEG')\n",
    "        count += 1"
   ]
  },
  {
   "cell_type": "code",
   "execution_count": 20,
   "id": "48ef684c",
   "metadata": {},
   "outputs": [],
   "source": [
    "SaveImages(AugmentedImgs, \"./images/AugmentedImagesPyTorch/\")"
   ]
  }
 ],
 "metadata": {
  "kernelspec": {
   "display_name": "Python 3 (ipykernel)",
   "language": "python",
   "name": "python3"
  },
  "language_info": {
   "codemirror_mode": {
    "name": "ipython",
    "version": 3
   },
   "file_extension": ".py",
   "mimetype": "text/x-python",
   "name": "python",
   "nbconvert_exporter": "python",
   "pygments_lexer": "ipython3",
   "version": "3.9.16"
  }
 },
 "nbformat": 4,
 "nbformat_minor": 5
}
