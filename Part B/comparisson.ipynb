{
 "cells": [
  {
   "cell_type": "code",
   "execution_count": 1,
   "metadata": {},
   "outputs": [],
   "source": [
    "import os\n",
    "import cv2\n",
    "import numpy as np\n",
    "from matplotlib import pyplot as plt\n",
    "from IPython.display import clear_output\n",
    "import math"
   ]
  },
  {
   "cell_type": "code",
   "execution_count": 6,
   "metadata": {},
   "outputs": [],
   "source": [
    "def loadImages(directory):\n",
    "    images = {} #Creating a dictionary to store the images\n",
    "    for x in os.listdir(directory):  #Looping through all the images\n",
    "        \"\"\"Reading from file and changing image to RGB\"\"\"\n",
    "        images[x] = cv2.imread(directory + x)\n",
    "        images[x] = images[x][:,:,::-1] #Converting BGR to RGB\n",
    "    return images #Returning image dictionary\n",
    "\n",
    "#Loading the Images\n",
    "directory = \"./images/\"\n",
    "images = loadImages(directory)"
   ]
  },
  {
   "cell_type": "code",
   "execution_count": null,
   "metadata": {},
   "outputs": [],
   "source": []
  }
 ],
 "metadata": {
  "kernelspec": {
   "display_name": "base",
   "language": "python",
   "name": "python3"
  },
  "language_info": {
   "codemirror_mode": {
    "name": "ipython",
    "version": 3
   },
   "file_extension": ".py",
   "mimetype": "text/x-python",
   "name": "python",
   "nbconvert_exporter": "python",
   "pygments_lexer": "ipython3",
   "version": "3.10.9"
  },
  "orig_nbformat": 4
 },
 "nbformat": 4,
 "nbformat_minor": 2
}
